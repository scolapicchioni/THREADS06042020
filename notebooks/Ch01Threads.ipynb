{
 "metadata": {
  "kernelspec": {
   "display_name": ".NET (C#)",
   "language": "C#",
   "name": ".net-csharp"
  },
  "language_info": {
   "name": "C#"
  }
 },
 "cells": [
  {
   "cell_type": "markdown",
   "source": [
    "# Introduction to Threads\r\n",
    "\r\n",
    "## What Is A Thread\r\n",
    "- A **Thread Of Execution** is the smallest sequence of programmed instructions that can be managed independently by a **scheduler** and executed by a CPU\r\n",
    "- Multiple threads can exist within one process, executing concurrently and sharing resources such as memory\r\n",
    "- Each thread has a reserved region of memory referred to as its **stack** \r\n",
    "  - **Local function state** data added to the top of the stack \r\n",
    "  - Used to store the location of a **return address**\r\n",
    "\r\n",
    "![Multithreading](https://upload.wikimedia.org/wikipedia/commons/2/25/Concepts-_Program_vs._Process_vs._Thread.jpg \"https://en.wikipedia.org/wiki/File:Concepts-_Program_vs._Process_vs._Thread.jpg\")\r\n",
    "\r\n",
    "## Uses\r\n",
    "\r\n",
    "- Responsive user interface\r\n",
    "  - Free the main UI thread to continue processing keyboard and mouse events\r\n",
    "- Parallel programming\r\n",
    "  - Perform intensive calculations faster on multicore or multiprocessor by sharing the workload among multiple threads\r\n",
    "- Simultaneous requests processing\r\n",
    "  - On a server, handle client requests that arrive concurrently in parallel\r\n",
    "\r\n",
    "## Problems\r\n",
    "\r\n",
    "- Multithreading can increase complexity \r\n",
    "  - The interaction between threads (typically via shared data) can cause intermittent and nonreproducible bugs\r\n",
    "- Resource and CPU cost \r\n",
    "  - Scheduling and switching threads when there are more active threads than CPU cores\r\n",
    "- Creation/tear-down cost\r\n",
    "  - Multithreading will not always speed up your application — it can even slow it down if used excessively or inappropriately\r\n",
    "\r\n",
    "## Every Application starts in a Thread\r\n"
   ],
   "metadata": {}
  },
  {
   "cell_type": "code",
   "execution_count": null,
   "source": [
    "using System.Threading;\r\n",
    "\r\n",
    "Console.WriteLine(Thread.CurrentThread.ManagedThreadId); \r\n",
    "Example();\r\n",
    "\r\n",
    "void Example() {\r\n",
    "    Console.WriteLine(Thread.CurrentThread.ManagedThreadId);\r\n",
    "}"
   ],
   "outputs": [],
   "metadata": {
    "dotnet_interactive": {
     "language": "csharp"
    }
   }
  },
  {
   "cell_type": "markdown",
   "source": [
    "## Creating and starting a new Thread\r\n",
    "\r\n",
    "- We can create a **new Thread**\r\n",
    "- We can bind it to a **delegate**\r\n",
    "- We can **Start** it  "
   ],
   "metadata": {}
  },
  {
   "cell_type": "code",
   "execution_count": null,
   "source": [
    "using System.Threading;\r\n",
    "Console.WriteLine(Thread.CurrentThread.ManagedThreadId); \r\n",
    "Thread t1 = new Thread(Example);\r\n",
    "t1.Start();\r\n",
    "\r\n",
    "void Example() {\r\n",
    "    Console.WriteLine(Thread.CurrentThread.ManagedThreadId); \r\n",
    "}\r\n"
   ],
   "outputs": [],
   "metadata": {
    "dotnet_interactive": {
     "language": "csharp"
    }
   }
  },
  {
   "cell_type": "markdown",
   "source": [
    "## Using Threads\r\n",
    "\r\n",
    "Single Threaded Execution is deterministic: no matter how many times we execute the following examples, we will **always** see the same results "
   ],
   "metadata": {}
  },
  {
   "cell_type": "code",
   "execution_count": null,
   "source": [
    "using System.Threading;\r\n",
    "void printX() {\r\n",
    "    for (int i = 0; i < 100; i++) {\r\n",
    "        Console.Write(\"x\");\r\n",
    "    }\r\n",
    "}\r\n",
    "//deterministic:\r\n",
    "//we will ALWAYS see 100 x\r\n",
    "//followed by 100 O\r\n",
    "printX();\r\n",
    "for (int i = 0; i < 100; i++) {\r\n",
    "    Console.Write(\"O\");\r\n",
    "}"
   ],
   "outputs": [],
   "metadata": {
    "dotnet_interactive": {
     "language": "csharp"
    }
   }
  },
  {
   "cell_type": "markdown",
   "source": [
    "# Multithreading is non deterministic\r\n",
    "\r\n",
    "Multithreading is like a box of chocolate: you never know what you're going to get"
   ],
   "metadata": {}
  },
  {
   "cell_type": "code",
   "execution_count": null,
   "source": [
    "using System.Threading;\r\n",
    "void printX() {\r\n",
    "    for (int i = 0; i < 100; i++) {\r\n",
    "        Console.Write(\"x\");\r\n",
    "    }\r\n",
    "}\r\n",
    "//non deterministic:\r\n",
    "//x and o will mix in a random way\r\n",
    "new Thread(printX).Start();\r\n",
    "for (int i = 0; i < 100; i++) {\r\n",
    "    Console.Write(\"O\");\r\n",
    "}\r\n"
   ],
   "outputs": [],
   "metadata": {
    "dotnet_interactive": {
     "language": "csharp"
    }
   }
  },
  {
   "cell_type": "markdown",
   "source": [
    "# Lab Time\r\n",
    "\r\n",
    "- Create a **Class Library** with the following function\r\n"
   ],
   "metadata": {}
  },
  {
   "cell_type": "code",
   "execution_count": null,
   "source": [
    "using System.Diagnostics;\r\n",
    "public void SlowFunction() {\r\n",
    "    Stopwatch stopwatch = new Stopwatch();\r\n",
    "    stopwatch.Start();\r\n",
    "    while (stopwatch.ElapsedMilliseconds < 3000) { }\r\n",
    "    Console.WriteLine(42);\r\n",
    "  }  "
   ],
   "outputs": [],
   "metadata": {
    "dotnet_interactive": {
     "language": "csharp"
    }
   }
  },
  {
   "cell_type": "markdown",
   "source": [
    "- Create a console application and invoke this function 3 times using 3 different Threads\r\n",
    "- You should see the result appearing at the same time, after 3 seconds\r\n"
   ],
   "metadata": {}
  },
  {
   "cell_type": "markdown",
   "source": [
    "# Using Threads - Passing Data\r\n",
    "\r\n",
    "We can pass object to a method during the **Start** of the new Thread"
   ],
   "metadata": {}
  },
  {
   "cell_type": "code",
   "execution_count": null,
   "source": [
    "using System.Threading;\r\n",
    "void doYourThing(object o) {\r\n",
    "    Console.WriteLine(o);\r\n",
    "}\r\n",
    "new Thread(doYourThing).Start(\"a\");\r\n",
    "new Thread(doYourThing).Start(\"b\");\r\n",
    "new Thread(doYourThing).Start(\"c\");"
   ],
   "outputs": [],
   "metadata": {
    "dotnet_interactive": {
     "language": "csharp"
    }
   }
  },
  {
   "cell_type": "markdown",
   "source": [
    "# Lab Time\r\n",
    "\r\n",
    "- Add a new function to your class library"
   ],
   "metadata": {}
  },
  {
   "cell_type": "code",
   "execution_count": null,
   "source": [
    "using System.Diagnostics;\r\n",
    "public void SlowSquare01(object o) {             \r\n",
    "    int n = (int)o;             \r\n",
    "    Stopwatch stopwatch = new Stopwatch();             \r\n",
    "    stopwatch.Start();             \r\n",
    "    while (stopwatch.ElapsedMilliseconds < (n * 1000)) { }\r\n",
    "    Console.WriteLine(n * n);\r\n",
    "}  "
   ],
   "outputs": [],
   "metadata": {
    "dotnet_interactive": {
     "language": "csharp"
    }
   }
  },
  {
   "cell_type": "markdown",
   "source": [
    "- Invoke this function 3 times using 3 different Threads and passing 3 different numbers\r\n",
    "  - You should see the results appearing at soon as possible"
   ],
   "metadata": {}
  },
  {
   "cell_type": "markdown",
   "source": [
    "# Using Threads - Passing Data to functions with a different the signature \r\n",
    "We cannot pass data to a Thread if the function has a different signature, for example if it requires more than one parameter or if it has one parameter of a type different than `object`.  \r\n",
    "We can, though, use a *trick* with an extra step: \r\n",
    "1. The Thread starts a function without parameters\r\n",
    "2. That function invokes the actual function we wanted to invoke in the first place, passing the necessary arguments  \r\n",
    "Since we can use *lambda expressions*, it's actually pretty easy"
   ],
   "metadata": {}
  },
  {
   "cell_type": "code",
   "execution_count": null,
   "source": [
    "using System.Threading;\r\n",
    "void method01(int a, int b) {\r\n",
    "    Console.WriteLine(Thread.CurrentThread.ManagedThreadId);\r\n",
    "    Console.WriteLine(a + b);\r\n",
    "}\r\n",
    "Thread t = new Thread(() => {\r\n",
    "    Console.WriteLine(Thread.CurrentThread.ManagedThreadId);\r\n",
    "    method01(3, 4);\r\n",
    "});\r\n",
    "t.Start();"
   ],
   "outputs": [],
   "metadata": {
    "dotnet_interactive": {
     "language": "csharp"
    }
   }
  },
  {
   "cell_type": "markdown",
   "source": [
    "# Lab Time\r\n",
    "- Add a function to your class library"
   ],
   "metadata": {}
  },
  {
   "cell_type": "code",
   "execution_count": null,
   "source": [
    "using System.Diagnostics;\r\n",
    "public void SlowSquare02(int n) {\r\n",
    "    Stopwatch stopwatch = new Stopwatch();\r\n",
    "    stopwatch.Start();\r\n",
    "    while (stopwatch.ElapsedMilliseconds < (n * 1000)) { }\r\n",
    "    Console.WriteLine(n * n);\r\n",
    "}  "
   ],
   "outputs": [],
   "metadata": {
    "dotnet_interactive": {
     "language": "csharp"
    }
   }
  },
  {
   "cell_type": "markdown",
   "source": [
    "- Invoke this function 3 times using 3 different Threads and passing 3 different numbers\r\n",
    "  - You should see the results appearing at soon as possible"
   ],
   "metadata": {}
  },
  {
   "cell_type": "markdown",
   "source": [
    "# Foreground and Background Threads\r\n",
    "By default, threads you create explicitly are foreground threads.  \r\n",
    "Foreground threads keep the application alive for as long as any one of them is running"
   ],
   "metadata": {}
  },
  {
   "cell_type": "code",
   "execution_count": null,
   "source": [
    "using System.Threading;\r\n",
    "void go() {\r\n",
    "    Console.WriteLine($\"Thread {Thread.CurrentThread.ManagedThreadId} running  as a foreground thread: the property Thread.CurrentThread.IsBackground is {Thread.CurrentThread.IsBackground}\"); \r\n",
    "}\r\n",
    "Thread t = new Thread(go);\r\n",
    "t.Start();"
   ],
   "outputs": [],
   "metadata": {
    "dotnet_interactive": {
     "language": "csharp"
    }
   }
  },
  {
   "cell_type": "markdown",
   "source": [
    "Background threads do not keep the application alive.  \r\n",
    "Once all foreground threads finish, the application ends, and any background threads still running abruptly terminate."
   ],
   "metadata": {}
  },
  {
   "cell_type": "code",
   "execution_count": null,
   "source": [
    "using System.Threading;\r\n",
    "void go() {\r\n",
    "    Console.WriteLine($\"Thread {Thread.CurrentThread.ManagedThreadId} running  as a background thread: the property Thread.CurrentThread.IsBackground is {Thread.CurrentThread.IsBackground}\"); \r\n",
    "}\r\n",
    "Thread t = new Thread(go) { IsBackground = true };\r\n",
    "t.Start();"
   ],
   "outputs": [],
   "metadata": {
    "dotnet_interactive": {
     "language": "csharp"
    }
   }
  },
  {
   "cell_type": "markdown",
   "source": [
    "# Exceptions\r\n",
    "Catching an exception outside the Thread that threw it is not possible"
   ],
   "metadata": {}
  },
  {
   "cell_type": "code",
   "execution_count": null,
   "source": [
    "using System.Threading;\r\n",
    "void go() {\r\n",
    "    throw new Exception(\"ERROR!\");\r\n",
    "}\r\n",
    "try {\r\n",
    "    new Thread(go).Start();\r\n",
    "} catch (Exception e) {\r\n",
    "    Console.WriteLine($\"caught {e}\"); //unhandled exception\r\n",
    "}"
   ],
   "outputs": [],
   "metadata": {
    "dotnet_interactive": {
     "language": "csharp"
    }
   }
  },
  {
   "cell_type": "markdown",
   "source": [
    "Exceptions can be caught by the originating Thread."
   ],
   "metadata": {}
  },
  {
   "cell_type": "code",
   "execution_count": null,
   "source": [
    "using System.Threading;\r\n",
    "void go() {\r\n",
    "    throw new Exception(\"ERROR!\");\r\n",
    "}\r\n",
    "new Thread(()=> {\r\n",
    "  try {\r\n",
    "    go();\r\n",
    "  } catch (Exception ex) { //we can handle it here\r\n",
    "    Console.WriteLine($\"caught {ex}\");\r\n",
    "  }\r\n",
    "}).Start();"
   ],
   "outputs": [],
   "metadata": {
    "dotnet_interactive": {
     "language": "csharp"
    }
   }
  },
  {
   "cell_type": "markdown",
   "source": [
    "# Returning Values\r\n",
    "Threads cannot return values.  \r\n",
    "We can put the result in a shared variable but we need to synchronize the threads to avoid concurrency problems such as race conditions."
   ],
   "metadata": {}
  },
  {
   "cell_type": "code",
   "execution_count": null,
   "source": [
    "using System.Threading;\r\n",
    "int method01(int a, int b) {\r\n",
    "    Console.WriteLine(Thread.CurrentThread.ManagedThreadId);\r\n",
    "    return a + b;\r\n",
    "}\r\n",
    "int result = 0;\r\n",
    "Thread t = new Thread(() => {\r\n",
    "    Console.WriteLine(Thread.CurrentThread.ManagedThreadId);\r\n",
    "    result = method01(3, 4);\r\n",
    "});\r\n",
    "t.Start();\r\n",
    "t.Join();\r\n",
    "Console.WriteLine(result);"
   ],
   "outputs": [
    {
     "output_type": "display_data",
     "data": {
      "text/plain": [
       "36\r\n"
      ]
     },
     "metadata": {}
    },
    {
     "output_type": "display_data",
     "data": {
      "text/plain": [
       "36\r\n"
      ]
     },
     "metadata": {}
    },
    {
     "output_type": "display_data",
     "data": {
      "text/plain": [
       "7\r\n"
      ]
     },
     "metadata": {}
    }
   ],
   "metadata": {
    "dotnet_interactive": {
     "language": "csharp"
    }
   }
  },
  {
   "cell_type": "markdown",
   "source": [
    "# Concurrency Problems\r\n",
    "Here is an example of a race condition: we may see `Done!` once or twice, depending on which Thread gets first to `done = true`."
   ],
   "metadata": {}
  },
  {
   "cell_type": "code",
   "execution_count": null,
   "source": [
    "using System.Threading;\r\n",
    "bool done = false;\r\n",
    "void doYourThing(){\r\n",
    "  if (!done) {\r\n",
    "    Console.WriteLine(\"Done!\");\r\n",
    "    done = true;\r\n",
    "  }\r\n",
    "}\r\n",
    "//calling the functions in the same thread causes no problem\r\n",
    "//but if we call them in different threads we MIGHT get unexpected results\r\n",
    "new Thread(doYourThing).Start();\r\n",
    "new Thread(doYourThing).Start();"
   ],
   "outputs": [
    {
     "output_type": "display_data",
     "data": {
      "text/plain": [
       "done\r\n"
      ]
     },
     "metadata": {}
    },
    {
     "output_type": "display_data",
     "data": {
      "text/plain": [
       "done\r\n"
      ]
     },
     "metadata": {}
    }
   ],
   "metadata": {
    "dotnet_interactive": {
     "language": "csharp"
    }
   }
  },
  {
   "cell_type": "markdown",
   "source": [
    "# Thread Synchronization: lock\r\n",
    "The **lock** keyword can help us to synchronize access to resources."
   ],
   "metadata": {}
  },
  {
   "cell_type": "code",
   "execution_count": null,
   "source": [
    "using System.Threading;\r\n",
    "bool done = false;\r\n",
    "object lockOnDone = new object();\r\n",
    "void doYourThing() {\r\n",
    "  lock (lockOnDone) {\r\n",
    "    if (!done) {\r\n",
    "      Console.WriteLine(\"done\");\r\n",
    "      done = true;\r\n",
    "    }\r\n",
    "  }\r\n",
    "}\r\n",
    "new Thread(doYourThing).Start();\r\n",
    "new Thread(doYourThing).Start();\r\n"
   ],
   "outputs": [
    {
     "output_type": "display_data",
     "data": {
      "text/plain": [
       "done\r\n"
      ]
     },
     "metadata": {}
    }
   ],
   "metadata": {
    "dotnet_interactive": {
     "language": "csharp"
    }
   }
  },
  {
   "cell_type": "markdown",
   "source": [
    "# Lab Time\r\n",
    "- Add the following function to your class library"
   ],
   "metadata": {}
  },
  {
   "cell_type": "code",
   "execution_count": null,
   "source": [
    "using System.Diagnostics;\r\n",
    "public int SlowSquare03(int n) {             \r\n",
    "    Stopwatch stopwatch = new Stopwatch();\r\n",
    "    stopwatch.Start();\r\n",
    "    while (stopwatch.ElapsedMilliseconds < (n * 1000)) { }\r\n",
    "    return n * n;\r\n",
    "}  "
   ],
   "outputs": [],
   "metadata": {
    "dotnet_interactive": {
     "language": "csharp"
    }
   }
  },
  {
   "cell_type": "markdown",
   "source": [
    "- Invoke the function 3 times passing 3 different values using different Threads\r\n",
    "- Print the results as soon as possible\r\n",
    "- Print the sum of the results. Make sure to update the sum in a thread safe way."
   ],
   "metadata": {}
  },
  {
   "cell_type": "markdown",
   "source": [
    "# Thread Synchronization - deadlocks\r\n",
    "We may cause our threads to *starve* if they keep waiting for a resource that is never released.  \r\n",
    "In the following example, if the first Thread gets a lock on `b1` while at the same time the second thread gets a lock on `b2`, the first waits forever on `b2` and the second waits forever on `b1`. Hence, a *deadlock* occurs and our threads *starve*. "
   ],
   "metadata": {}
  },
  {
   "cell_type": "code",
   "execution_count": null,
   "source": [
    "using System.Threading;\r\n",
    "public void Transfer(BankAccount from, BankAccount to, decimal amount) {\r\n",
    "    lock (from) {\r\n",
    "        lock (to) {\r\n",
    "            from.Withdraw(amount);\r\n",
    "            to.Deposit(amount);\r\n",
    "        }\r\n",
    "    }\r\n",
    "}\r\n",
    "\r\n",
    "BankAccount b1 = new BankAccount();\r\n",
    "BankAccount b2 = new BankAccount();\r\n",
    "\r\n",
    "new Thread(()=>Transfer(b1,b2,100)).Start();\r\n",
    "new Thread(()=>Transfer(b2,b1,100)).Start();\r\n",
    "\r\n",
    "public class BankAccount{\r\n",
    "    public decimal Balance {get; private set;}\r\n",
    "    public void Withdraw(decimal amount) => Balance -= amount;\r\n",
    "    public void Deposit(decimal amount) => Balance += amount; \r\n",
    "}"
   ],
   "outputs": [],
   "metadata": {
    "dotnet_interactive": {
     "language": "csharp"
    }
   }
  },
  {
   "cell_type": "markdown",
   "source": [
    "# Thread Synchronization - The Monitor class\r\n",
    "The *lock* keyword is actually compiled to more or less this code, which uses the *Enter* and *Exit* methods of the *Monitor* class."
   ],
   "metadata": {}
  },
  {
   "cell_type": "code",
   "execution_count": null,
   "source": [
    "using System.Threading;\r\n",
    "bool done = false;\r\n",
    "object lockOnDone = new object();\r\n",
    "void doYourThing() {\r\n",
    "  try {\r\n",
    "    Monitor.Enter(lockOnDone);\r\n",
    "    if (!done) {\r\n",
    "      Console.WriteLine(\"Done!\");\r\n",
    "      done = true;\r\n",
    "    }\r\n",
    "  } finally {\r\n",
    "    Monitor.Exit(lockOnDone);\r\n",
    "  }\r\n",
    "}\r\n",
    "new Thread(doYourThing).Start();\r\n",
    "new Thread(doYourThing).Start();"
   ],
   "outputs": [],
   "metadata": {
    "dotnet_interactive": {
     "language": "csharp"
    }
   }
  },
  {
   "cell_type": "markdown",
   "source": [
    "# Thread Syncronization - TryEnter and TryExit\r\n",
    "*Enter* and *Exit* wait forever and they are not aware of any deadlock.  \r\n",
    "We can use *TryEnter* and *TryExit* to eventually stop waiting.  "
   ],
   "metadata": {}
  },
  {
   "cell_type": "code",
   "execution_count": null,
   "source": [
    "using System.Threading;\r\n",
    "bool done = false;\r\n",
    "object lockOnDone = new object();\r\n",
    "void doYourThing() {\r\n",
    "    try {\r\n",
    "      //The TryEnter continues after a while if it didn't get a lock on time\r\n",
    "      bool lockTaken = Monitor.TryEnter(lockOnDone);\r\n",
    "      if (lockTaken) { //let’s check if we got the lock\r\n",
    "        if (!done) {\r\n",
    "          Console.WriteLine(\"done\");\r\n",
    "          done = true;\r\n",
    "        }\r\n",
    "      } else {\r\n",
    "         // Return a boolean to indicate that the operation was not\r\n",
    "         // completed successfully and let the caller try again later?\r\n",
    "         // Or try yourself again? Both? Decide your strategy.\r\n",
    "      }\r\n",
    "    } finally {\r\n",
    "      Monitor.Exit(lockOnDone);\r\n",
    "    }\r\n",
    "}\r\n",
    "new Thread(doYourThing).Start();\r\n",
    "new Thread(doYourThing).Start();"
   ],
   "outputs": [],
   "metadata": {
    "dotnet_interactive": {
     "language": "csharp"
    }
   }
  },
  {
   "cell_type": "markdown",
   "source": [
    "# Thread Syncronization - Interlocked\r\n",
    "The Interlocked class provides atomic operations for variables that are shared by multiple threads.  \r\n",
    "The following code is not Thread safe, because the `counter` variable is shared by multiple threads and updated concurrrently. "
   ],
   "metadata": {}
  },
  {
   "cell_type": "code",
   "execution_count": null,
   "source": [
    "using System.Threading;\r\n",
    "int counter = 0;\r\n",
    "for (int i = 0; i < 10; i++) {\r\n",
    "    new Thread(() => counter++).Start();\r\n",
    "}"
   ],
   "outputs": [],
   "metadata": {
    "dotnet_interactive": {
     "language": "csharp"
    }
   }
  },
  {
   "cell_type": "markdown",
   "source": [
    "We could rewrite it like this"
   ],
   "metadata": {}
  },
  {
   "cell_type": "code",
   "execution_count": null,
   "source": [
    "using System.Threading;\r\n",
    "int counter = 0;\r\n",
    "object lockOnCounter = new object();\r\n",
    "for (int i = 0; i < 10; i++) {\r\n",
    "    new Thread(() => {\r\n",
    "        lock(lockOnCounter){\r\n",
    "            counter++;\r\n",
    "        }\r\n",
    "    }).Start();\r\n",
    "}"
   ],
   "outputs": [],
   "metadata": {
    "dotnet_interactive": {
     "language": "csharp"
    }
   }
  },
  {
   "cell_type": "markdown",
   "source": [
    "But with the *Interlocked* class we can simplify the code because we can avoid to create our own lock."
   ],
   "metadata": {}
  },
  {
   "cell_type": "code",
   "execution_count": null,
   "source": [
    "using System.Threading;\r\n",
    "int counter = 0;\r\n",
    "for (int i = 0; i < 10; i++) {\r\n",
    "    new Thread(() => Interlocked.Increment(ref counter)).Start();\r\n",
    "}"
   ],
   "outputs": [],
   "metadata": {
    "dotnet_interactive": {
     "language": "csharp"
    }
   }
  },
  {
   "cell_type": "markdown",
   "source": [
    "# Thread Syncronization - AutoResetEvent\r\n",
    "In some scenarios we need Threads to send *signals* to each other.  \r\n",
    "The **AutoResetEvent** class allows a thread to unblock once, when it receives a signal from another. "
   ],
   "metadata": {}
  },
  {
   "cell_type": "code",
   "execution_count": null,
   "source": [
    "using System.Threading;\r\n",
    "AutoResetEvent autoResetEvent = new AutoResetEvent(false);\r\n",
    "new Thread(()=> {\r\n",
    "    autoResetEvent.Set();\r\n",
    "}).Start();\r\n",
    "Console.WriteLine(\"Waiting for a signal\");\r\n",
    "autoResetEvent.WaitOne();\r\n",
    "Console.WriteLine(\"Signal received, resuming operations\");"
   ],
   "outputs": [],
   "metadata": {
    "dotnet_interactive": {
     "language": "csharp"
    }
   }
  },
  {
   "cell_type": "markdown",
   "source": [
    "# Thread Syncronization - WaitHandle\r\n",
    "We can also wait on multiple signals"
   ],
   "metadata": {}
  },
  {
   "cell_type": "code",
   "execution_count": null,
   "source": [
    "EventWaitHandle[] eventWaitHandles = new EventWaitHandle[3] {\r\n",
    "    new AutoResetEvent(false), \r\n",
    "    new AutoResetEvent(false), \r\n",
    "    new AutoResetEvent(false)\r\n",
    "};\r\n",
    "AutoResetEvent autoResetEvent = new AutoResetEvent(false);\r\n",
    "new Thread(() => eventWaitHandles[0].Set()).Start();\r\n",
    "new Thread(() => eventWaitHandles[1].Set()).Start();\r\n",
    "new Thread(() => eventWaitHandles[2].Set()).Start(); \r\n",
    "WaitHandle.WaitAll(eventWaitHandles);\r\n",
    "Console.WriteLine(\"All signals received\");"
   ],
   "outputs": [],
   "metadata": {
    "dotnet_interactive": {
     "language": "csharp"
    }
   }
  },
  {
   "cell_type": "markdown",
   "source": [
    "# Lab Time\r\n",
    "Modify your previous exercise   \r\n",
    "- Use the Interlocked class to update the sum\r\n",
    "- Use `AutoResetEvent` and `WaitHandle` to synchronize the Threads"
   ],
   "metadata": {}
  },
  {
   "cell_type": "markdown",
   "source": [
    "# Thread Syncronization - CountdownEvent\r\n",
    "System.Threading.CountdownEvent is a synchronization primitive that unblocks its waiting threads after it has been signaled a certain number of times. CountdownEvent is designed for scenarios in which you would otherwise have to use a ManualResetEvent or ManualResetEventSlim and manually decrement a variable before signaling the event. For example, in a fork/join scenario, you can just create a CountdownEvent that has a signal count of 5, and then start five work items on the thread pool and have each work item call Signal when it completes. Each call to Signal decrements the signal count by 1. On the main thread, the call to Wait will block until the signal count is zero."
   ],
   "metadata": {
    "dotnet_interactive": {
     "language": "csharp"
    }
   }
  },
  {
   "cell_type": "code",
   "execution_count": null,
   "source": [
    "using System.Threading;\r\n",
    "CountdownEvent countdown = new CountdownEvent(5);\r\n",
    "new Thread(() => countdown.Signal()).Start();\r\n",
    "new Thread(() => countdown.Signal()).Start();\r\n",
    "new Thread(() => countdown.Signal()).Start();\r\n",
    "new Thread(() => countdown.Signal()).Start();\r\n",
    "new Thread(() => countdown.Signal()).Start();\r\n",
    "countdown.Wait();\r\n",
    "Console.WriteLine(\"I'm here!\");"
   ],
   "outputs": [],
   "metadata": {
    "dotnet_interactive": {
     "language": "csharp"
    }
   }
  },
  {
   "cell_type": "markdown",
   "source": [
    "# Thread Synchronization - Semaphore\r\n",
    "Threads enter the semaphore by calling the `WaitOne` method, in the case of a `System.Threading.Semaphore` object, or the `SemaphoreSlim.Wait` or `SemaphoreSlim.WaitAsync` method, in the case of a `SemaphoreSlim` object.  \r\n",
    "The count on a semaphore is decremented each time a thread enters the semaphore, and incremented when a thread releases the semaphore.  \r\n",
    "When the count is zero, subsequent requests block until other threads release the semaphore.  \r\n",
    "When all threads have released the semaphore, the count is at the maximum value specified when the semaphore was created."
   ],
   "metadata": {}
  },
  {
   "cell_type": "code",
   "execution_count": null,
   "source": [
    "using System.Threading;\r\n",
    "SemaphoreSlim semaphore = new SemaphoreSlim(3, 3);\r\n",
    "\r\n",
    "for (int i = 0; i < 10; i++) {\r\n",
    "    new Thread(() => {\r\n",
    "        Console.WriteLine($\"{Thread.CurrentThread.ManagedThreadId} waiting. Current count: {semaphore.CurrentCount}\");\r\n",
    "        semaphore.Wait();\r\n",
    "        Console.WriteLine($\"{Thread.CurrentThread.ManagedThreadId} working. Current count: {semaphore.CurrentCount}\");\r\n",
    "        semaphore.Release();\r\n",
    "        Console.WriteLine($\"{Thread.CurrentThread.ManagedThreadId} released the semaphore. Current count: {semaphore.CurrentCount}\");\r\n",
    "    }).Start();\r\n",
    "}"
   ],
   "outputs": [],
   "metadata": {
    "dotnet_interactive": {
     "language": "csharp"
    }
   }
  },
  {
   "cell_type": "markdown",
   "source": [
    "# Thread Synchronization - Barrier\r\n",
    "Another signaling class is the **Barrier**, similar to the CountdownEvent.  \r\n",
    "When the CountdownEvent reaches 0, it's done. When the Barrier reaches 0, instead, it restarts its counter.  \r\n",
    "The Barrier also allows us to run an *action* everytime the counter reaches 0."
   ],
   "metadata": {}
  },
  {
   "cell_type": "code",
   "execution_count": null,
   "source": [
    "using System.Threading;\r\n",
    "void postPhase(Barrier b) {\r\n",
    "    Console.WriteLine(\"!\");\r\n",
    "}\r\n",
    "\r\n",
    "//the counter starts from 3\r\n",
    "Barrier barrier = new Barrier(3, postPhase);\r\n",
    "\r\n",
    "void go(object letter){\r\n",
    "    for (int i = 0; i < 5; i++) {\r\n",
    "        Console.Write($\"{letter} - {i} \");\r\n",
    "        // We decrease the counter and wait until it reaches 0. \r\n",
    "        // We don't move to the next iteration until the other 2 threads have done their job. \r\n",
    "        barrier.SignalAndWait();\r\n",
    "    }\r\n",
    "}\r\n",
    "\r\n",
    "for (int i = 0; i < 3; i++) {\r\n",
    "    new Thread(new ParameterizedThreadStart(go)).Start((char)(i + 65)); //we pass A, B, C\r\n",
    "}"
   ],
   "outputs": [],
   "metadata": {
    "dotnet_interactive": {
     "language": "csharp"
    }
   }
  },
  {
   "cell_type": "markdown",
   "source": [
    "# ThreadPool\r\n",
    "Everytime we create a `new Thread`, memory is allocated. Whenever a `Thread` has completed its job, we cannot reuse it for something else.  \r\n",
    "The **ThreadPool** enables you to use threads more efficiently by providing your application with a pool of worker threads that are managed by the system.     \r\n",
    "In the following example, take a look at the `ManagedThreadId`: it may be reused multiple times.\r\n",
    "            "
   ],
   "metadata": {}
  },
  {
   "cell_type": "code",
   "execution_count": null,
   "source": [
    "using System.Threading;\r\n",
    "void go(object o){\r\n",
    "    Console.WriteLine($\"{Thread.CurrentThread.ManagedThreadId} got {o}\");\r\n",
    "}\r\n",
    "\r\n",
    "for (int i = 0; i < 26; i++) {\r\n",
    "    ThreadPool.QueueUserWorkItem(go, (char)(i+65));\r\n",
    "    //instead of\r\n",
    "    //new Thread(go).Start((char)(i+65)); \r\n",
    "}"
   ],
   "outputs": [],
   "metadata": {
    "dotnet_interactive": {
     "language": "csharp"
    }
   }
  },
  {
   "cell_type": "markdown",
   "source": [
    "# Lab Time\r\n",
    "Modify your previous exercise by using the `ThreadPool` instead of instancing new `Thread`s."
   ],
   "metadata": {}
  },
  {
   "cell_type": "markdown",
   "source": [
    "# Timers\r\n",
    "The Time class provides a mechanism for executing a method on a thread pool thread at specified intervals.  \r\n",
    "When you create a timer, you can specify an amount of time to wait before the first execution of the method (due time), and an amount of time to wait between subsequent executions (period).   \r\n",
    "When a timer is no longer needed, use the Dispose method to free the resources held by the timer.  "
   ],
   "metadata": {}
  },
  {
   "cell_type": "code",
   "execution_count": null,
   "source": [
    "using System.Threading;\r\n",
    "using System.Diagnostics;\r\n",
    "void go(object _){\r\n",
    "    Console.WriteLine($\"{Thread.CurrentThread.ManagedThreadId} {Thread.CurrentThread.IsThreadPoolThread}\");\r\n",
    "}\r\n",
    "\r\n",
    "//wait 3 seconds, than call \"go\" every second \r\n",
    "using (Timer timer = new Timer(go, null, 3_000, 1_000)) {\r\n",
    "    Console.WriteLine(\".... Wait for it...\");\r\n",
    "    Stopwatch stopwatch = new Stopwatch();\r\n",
    "    stopwatch.Start();\r\n",
    "    // dispose called after 10 seconds\r\n",
    "    while (stopwatch.ElapsedMilliseconds < (10_000)) { }\r\n",
    "}"
   ],
   "outputs": [],
   "metadata": {
    "dotnet_interactive": {
     "language": "csharp"
    }
   }
  },
  {
   "cell_type": "markdown",
   "source": [
    "# Synchronization Context\r\n"
   ],
   "metadata": {}
  }
 ],
 "nbformat": 4,
 "nbformat_minor": 2
}